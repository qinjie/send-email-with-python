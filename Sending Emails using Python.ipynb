{
 "cells": [
  {
   "cell_type": "markdown",
   "metadata": {},
   "source": [
    "# Sending Emails using Python\n",
    "\n",
    "* Learn to use built-in `smtplib`\n",
    "* Use `mailtrap.io`"
   ]
  },
  {
   "cell_type": "markdown",
   "metadata": {},
   "source": [
    "## 1. Introduction\n",
    "\n",
    "Sending email is a common feature required in many business applications. It may be simple notifications containing plain text. It can also be complex reports with links and multiple attachments."
   ]
  },
  {
   "cell_type": "markdown",
   "metadata": {},
   "source": [
    "### How Email Works?\n",
    "\n",
    "* The client application connects to its email server to send an email.\n",
    "* The email server uses Simple Mail Transfer Protocol (SMTP) to send (exchange) emails with other email servers.\n",
    "* Recipient's application contacts its email server to retrieve emails.\n",
    "\n",
    "<img src=\"images/javamail-tutorial.001.png.001.png\" width=600 />"
   ]
  },
  {
   "cell_type": "markdown",
   "metadata": {},
   "source": [
    "### Different Email Protocols\n",
    "\n",
    "Most commonly used email protocols are SMTP, POP3 and IMAP."
   ]
  },
  {
   "cell_type": "markdown",
   "metadata": {},
   "source": [
    "#### SMTP\n",
    "\n",
    "Simple Mail Transfer Protocol (SMTP) is the standard protocol for sending emails across the internet. It is also used by mail server to forward emails to another email server.\n",
    "* It uses port `25` by default for non-encrypted communication. For secured communication, it uses port `465`.\n"
   ]
  },
  {
   "cell_type": "markdown",
   "metadata": {},
   "source": [
    "#### POP3\n",
    "\n",
    "Post Office Protocol version 3 (POP3) is a standard mail protocol used to receive emails from a remote server to a local email client.\n",
    "* Note: Using POP3, messages are downloaded locally and removed from the email server.\n",
    "* It uses port `110` for non-encrypted communication, and port `995` for secured communication."
   ]
  },
  {
   "cell_type": "markdown",
   "metadata": {},
   "source": [
    "#### IMAP\n",
    "\n",
    "Internet Message Access Protocol (IMAP) is a mail protocol used for accessing email on a remote web server from a local client.\n",
    "* Both IMAP and POP3 are the two most commonly used Internet mail protocols for retrieving emails.\n",
    "* IMAP allows simultaneous access by multiple clients.\n",
    "* IMAP doesn't remove emails from server after clients receive them.\n",
    "* It uses port `143` for non-secured communication, and port `993` for secured communication."
   ]
  },
  {
   "cell_type": "markdown",
   "metadata": {},
   "source": [
    "## 2. Python Module `smtplib`"
   ]
  },
  {
   "cell_type": "markdown",
   "metadata": {},
   "source": [
    "### Dummy SMTP Server\n",
    "\n",
    "For any email client to send email, it needs to connect to an SMTP server.\n",
    "\n",
    "You can use any email server, e.g. GMail, to test your email client. But that may bring security problem and produce many spam emails. instead of using actual email server for testing, developers commonly use dummy/fake SMTP servers. "
   ]
  },
  {
   "cell_type": "markdown",
   "metadata": {},
   "source": [
    "### Run Dummy SMTP Server at Localhost\n",
    "\n",
    "Start a new command prompt:\n",
    "* Press `WIN+r`\n",
    "* Enter `cmd` and press `ENTER` key\n",
    "\n",
    "<img src=\"images/run_cmd.png\" width=300/>"
   ]
  },
  {
   "cell_type": "markdown",
   "metadata": {},
   "source": [
    "Run following command in command prompt.\n",
    "\n",
    "```bash\n",
    "python -m smtpd -n -c DebuggingServer localhost:25\n",
    "```\n",
    "\n",
    "<img src=\"images/run_cmd_command.png\" width=400/>"
   ]
  },
  {
   "cell_type": "markdown",
   "metadata": {},
   "source": [
    "Test above dummy server.\n",
    "* Import `smtplib` library\n",
    "* Create a new `SMTP` object pointing to localhost.\n",
    "* Call `noop()` function which does nothing but to test communication with server. "
   ]
  },
  {
   "cell_type": "code",
   "execution_count": null,
   "metadata": {},
   "outputs": [],
   "source": [
    "import smtplib\n",
    "\n",
    "smtp = smtplib.SMTP('localhost', timeout=5)\n",
    "smtp.noop()\n",
    "smtp.quit()"
   ]
  },
  {
   "cell_type": "markdown",
   "metadata": {},
   "source": [
    "### Send Text Email\n",
    "\n",
    "Following code sends a simple text email to a single recipient.\n",
    "* Mail can be sent by function `sendmail()` or `send_message()`."
   ]
  },
  {
   "cell_type": "code",
   "execution_count": null,
   "metadata": {},
   "outputs": [],
   "source": [
    "import smtplib\n",
    "from email.mime.text import MIMEText\n",
    "from email.mime.multipart import MIMEMultipart\n",
    "\n",
    "sender = \"me@demo.com\"\n",
    "receiver = \"Alan@dummy.com\"\n",
    "body = 'Hello World'\n",
    "\n",
    "# Construct a simple text mail\n",
    "msg_text = MIMEMultipart()\n",
    "msg_text['Subject'] = 'Hi Text'\n",
    "msg_text['From'] = sender\n",
    "msg_text['To'] = receiver\n",
    "msg_text.attach(MIMEText(body))\n",
    "\n",
    "with smtplib.SMTP(\"localhost\", timeout=3) as server:\n",
    "#     server.login('username', 'password')\n",
    "#     server.sendmail(sender, receivers, msg.as_string())\n",
    "    server.send_message(msg_text)"
   ]
  },
  {
   "cell_type": "markdown",
   "metadata": {},
   "source": [
    "### Send HTML Email\n",
    "\n",
    "Following code sends a HTML email with alternative text version.\n",
    "* There can be multiple recipients. Thus `To` field can be a list of emails."
   ]
  },
  {
   "cell_type": "code",
   "execution_count": null,
   "metadata": {},
   "outputs": [],
   "source": [
    "import smtplib\n",
    "from email.mime.text import MIMEText\n",
    "from email.mime.multipart import MIMEMultipart\n",
    "\n",
    "sender = \"me@demo.com\"\n",
    "receivers = [\"Alan@dummy.com\", \"Ben@dummy.com\"]\n",
    "\n",
    "# Construct an object\n",
    "msg_alt = MIMEMultipart('alternative')\n",
    "msg_alt['Subject'] = 'Hi HTML'\n",
    "msg_alt['From'] = sender\n",
    "msg_alt['To'] = str(receivers)\n",
    "\n",
    "# Create the body of the message (a plain-text and an HTML version).\n",
    "text = \"Hi!\\nHow are you?\\nHere is the link you wanted:\\nhttps://www.python.org\"\n",
    "html = \"\"\"\\\n",
    "<html>\n",
    "  <head></head>\n",
    "  <body>\n",
    "    <p>Hi!<br>\n",
    "       How are you?<br>\n",
    "       Here is the <a href=\"https://www.python.org\">link</a> you wanted.\n",
    "    </p>\n",
    "  </body>\n",
    "</html>\n",
    "\"\"\"\n",
    "\n",
    "# Attach parts into message container.\n",
    "# According to RFC 2046, the last part of a multipart message should be HTML message\n",
    "msg_alt.attach(MIMEText(text, 'plain'))\n",
    "msg_alt.attach(MIMEText(html, 'html'))\n",
    "\n",
    "with smtplib.SMTP(\"localhost\", timeout=3) as server:\n",
    "#     server.login('username', 'password')\n",
    "#     server.sendmail(sender, receivers, msg.as_string())\n",
    "    server.send_message(msg_alt)"
   ]
  },
  {
   "cell_type": "markdown",
   "metadata": {},
   "source": [
    "### Send Email with Picture Attachment\n",
    "\n",
    "Following code sends an email with picture attachment.\n",
    "* The picture is read as a MIMEImage object and is attached to the message."
   ]
  },
  {
   "cell_type": "code",
   "execution_count": null,
   "metadata": {},
   "outputs": [],
   "source": [
    "import smtplib\n",
    "import os\n",
    "from email.mime.image import MIMEImage\n",
    "from email.mime.multipart import MIMEMultipart\n",
    "from email.mime.application import MIMEApplication\n",
    "\n",
    "def compose_email(send_from: str, subject: str, text: str, \n",
    "send_to: list, files= None):\n",
    "\n",
    "    send_to= default_address if not send_to else send_to\n",
    "\n",
    "    msg = MIMEMultipart()\n",
    "    msg['From'] = send_from\n",
    "    msg['To'] = ', '.join(send_to)  \n",
    "    msg['Subject'] = subject\n",
    "\n",
    "    msg.attach(MIMEText(text))\n",
    "\n",
    "    for file in files or []:\n",
    "        with open(file, \"rb\") as f: \n",
    "            ext = os.path.splitext(file)[-1:]\n",
    "            attachedfile = MIMEApplication(f.read(), _subtype = ext)\n",
    "            attachedfile.add_header('content-disposition', 'attachment', filename=os.path.basename(file) )\n",
    "            msg.attach(attachedfile)\n",
    "\n",
    "    return msg\n",
    "\n",
    "\n",
    "send_from = \"me@demo.com\"\n",
    "send_to = [\"Alan@dummy.com\", \"Ben@dummy.com\"]\n",
    "subject = 'Hello World'\n",
    "text = 'How are u?'\n",
    "files = ['./images/run_cmd.png', './images/google.pdf']\n",
    "\n",
    "msg_pic = compose_email(send_from=send_from, subject=subject, text=text, send_to=send_to, files=files)\n",
    "\n",
    "with smtplib.SMTP(\"localhost\", timeout=3) as server:\n",
    "#     server.login('username', 'password')\n",
    "#     server.sendmail(sender, receivers, msg.as_string())\n",
    "    server.send_message(msg_pic)\n"
   ]
  },
  {
   "cell_type": "markdown",
   "metadata": {},
   "source": [
    "## 3. Mailtrap"
   ]
  },
  {
   "cell_type": "markdown",
   "metadata": {},
   "source": [
    "<b>Mailtrap</b>, <a href=\"https://mailtrap.io\">`mailtrap.io`</a>, is a tool for the safe testing of emails sent. \n",
    "* It provides a fake SMTP server designed to catch your test emails. \n",
    "* It emulates the process of sending, so we won’t deliver your emails to a real user.\n",
    "* It keeps emails in a virtual inbox so that you can test and optimize your HTML email campaigns."
   ]
  },
  {
   "cell_type": "markdown",
   "metadata": {},
   "source": [
    "### Sign up Free Account\n",
    "\n",
    "Go to https://mailtrap.io/ and signup an account. You are placed on a free plan.\n",
    "\n",
    "<img src=\"images/mailtrap_free_plan.png\" width=400 />"
   ]
  },
  {
   "cell_type": "markdown",
   "metadata": {},
   "source": [
    "### Find Settings\n",
    "\n",
    "To send email to an Mailtrap inbox, we need to find following settings:\n",
    "* host\n",
    "* port\n",
    "* username\n",
    "* password"
   ]
  },
  {
   "cell_type": "markdown",
   "metadata": {},
   "source": [
    "a) Click on `Shared Inboxes` and `Home` to go to `My Inboxes`.\n",
    "<img src=\"images/mailtrap_shared_inboxs.png\" width=400 />"
   ]
  },
  {
   "cell_type": "markdown",
   "metadata": {},
   "source": [
    "b) Click on the `Settings` icon of the `Demo Inbox`. \n",
    "\n",
    "<img src=\"images/mailtrap_inboxes.png\" width=600 />"
   ]
  },
  {
   "cell_type": "markdown",
   "metadata": {},
   "source": [
    "c) Take note of the credential settings fro SMTP.\n",
    "\n",
    "<img src=\"images/mailtrap_smtp_settings.png\" width=550 />"
   ]
  },
  {
   "cell_type": "markdown",
   "metadata": {},
   "source": [
    "d) Mailtrap provides code samples for integration with various programming languages. **Copy** the code sample for Python > `smtplib`.\n",
    "\n",
    "<img src=\"images/mailtrap_integrations.png\" width=400 />"
   ]
  },
  {
   "cell_type": "markdown",
   "metadata": {},
   "source": [
    "e) Here is the sample Python code copied. Run and make sure you can receive the email in `Demo Inbox`.\n",
    "\n",
    "<img src='images/demo_email.png' width=500 />"
   ]
  },
  {
   "cell_type": "code",
   "execution_count": null,
   "metadata": {},
   "outputs": [],
   "source": [
    "import smtplib\n",
    "\n",
    "sender = \"Private Person <me>\"\n",
    "receiver = \"A Test User <to@smtp.mailtrap.io>\"\n",
    "\n",
    "message = f\"\"\"\\\n",
    "Subject: Hi Mailtrap\n",
    "To: {receiver}\n",
    "From: {sender}\n",
    "\n",
    "This is a test e-mail message.\"\"\"\n",
    "\n",
    "with smtplib.SMTP(\"smtp.mailtrap.io\", 2525) as server:\n",
    "    server.login(\"bef6ee2d77319a\", \"d98791d41a795f\")\n",
    "    server.sendmail(sender, receiver, message)"
   ]
  },
  {
   "cell_type": "markdown",
   "metadata": {},
   "source": [
    "### Send Emails\n",
    "Python has a built-in library `smtplib` to send emails. The `smtplib` module defines an SMTP client session object, which sends email to a SMTP server."
   ]
  },
  {
   "cell_type": "markdown",
   "metadata": {},
   "source": [
    "a) Send Text Mail"
   ]
  },
  {
   "cell_type": "code",
   "execution_count": null,
   "metadata": {},
   "outputs": [],
   "source": [
    "with smtplib.SMTP(\"smtp.mailtrap.io\", 2525, timeout=3) as server:\n",
    "    server.login(\"bef6ee2d77319a\", \"d98791d41a795f\")\n",
    "    server.send_message(msg_text)"
   ]
  },
  {
   "cell_type": "markdown",
   "metadata": {},
   "source": [
    "b) Send HTML Mail"
   ]
  },
  {
   "cell_type": "code",
   "execution_count": null,
   "metadata": {},
   "outputs": [],
   "source": [
    "with smtplib.SMTP(\"smtp.mailtrap.io\", 2525, timeout=3) as server:\n",
    "    server.login(\"bef6ee2d77319a\", \"d98791d41a795f\")\n",
    "    server.send_message(msg_alt)"
   ]
  },
  {
   "cell_type": "markdown",
   "metadata": {},
   "source": [
    "c) Send Mail with Picture"
   ]
  },
  {
   "cell_type": "code",
   "execution_count": null,
   "metadata": {},
   "outputs": [],
   "source": [
    "with smtplib.SMTP(\"smtp.mailtrap.io\", 2525, timeout=3) as server:\n",
    "    server.login(\"bef6ee2d77319a\", \"d98791d41a795f\")\n",
    "    server.send_message(msg_pic)"
   ]
  },
  {
   "cell_type": "markdown",
   "metadata": {},
   "source": [
    "## 4. Gmail"
   ]
  },
  {
   "cell_type": "markdown",
   "metadata": {},
   "source": [
    "### Create App Password\n",
    "\n",
    "\n",
    "\n",
    "* Go to your Google Account https://myaccount.google.com/\n",
    "* On the left navigation panel, choose Security.\n",
    "* On the \"Signing in to Google\" panel, choose App Passwords. If you don’t see this option:\n",
    "    * 2-Step Verification is not set up for your account.\n",
    "    * 2-Step Verification is set up for security keys only.\n",
    "    * Your account is through work, school, or other organization.\n",
    "    * You’ve turned on Advanced Protection for your account.\n",
    "* At the bottom, choose Select app and choose the app you’re using.\n",
    "* Choose Select device and choose the device you’re using.\n",
    "* Choose Generate.\n",
    "* Follow the instructions to enter the App Password. The App Password is the 16-character code in the yellow bar on your device.\n",
    "* Choose Done."
   ]
  },
  {
   "cell_type": "markdown",
   "metadata": {},
   "source": [
    "### Send Email"
   ]
  },
  {
   "cell_type": "code",
   "execution_count": 7,
   "metadata": {},
   "outputs": [],
   "source": [
    "import smtplib\n",
    "from email.mime.text import MIMEText\n",
    "from email.mime.multipart import MIMEMultipart\n",
    "\n",
    "sender = \"mark.qj@gmail.com\"\n",
    "receivers = [\"qinjie@dsaid.gov.sg\"]\n",
    "\n",
    "# Construct an object\n",
    "msg_alt = MIMEMultipart('alternative')\n",
    "msg_alt['Subject'] = 'Hi HTML'\n",
    "msg_alt['From'] = sender\n",
    "msg_alt['To'] = str(receivers)\n",
    "\n",
    "# Create the body of the message (a plain-text and an HTML version).\n",
    "text = \"Hi!\\nHow are you?\\nHere is the link you wanted:\\nhttps://www.python.org\"\n",
    "html = \"\"\"\n",
    "<html>\n",
    "  <head></head>\n",
    "  <body>\n",
    "    <p>Hi!<br>\n",
    "       How are you?<br>\n",
    "       Here is the <a href=\"https://www.python.org\">link</a> you wanted.\n",
    "    </p>\n",
    "    <h1>External Logo</h1>\n",
    "    <p>This is a Yahoo logo</p>\n",
    "    <img alt=\"Yahoo Logo\" src=\"https://s.yimg.com/cv/apiv2/default/20210428/Paralympics_non_retina_220x80.png\"/>\n",
    "    <h1>Internal Logo</h1>\n",
    "    <p>This is a Dart logo</p>\n",
    "    <img alt=\"Dart Logo\" src=\"https://portal.data.tech.gov.sg/wp-content/themes/snow-white/imgs/logo_dart_sm.png\"/>\n",
    "  </body>\n",
    "</html>\n",
    "\"\"\"\n",
    "\n",
    "# Attach parts into message container.\n",
    "# According to RFC 2046, the last part of a multipart message should be HTML message\n",
    "msg_alt.attach(MIMEText(text, 'plain'))\n",
    "msg_alt.attach(MIMEText(html, 'html'))"
   ]
  },
  {
   "cell_type": "code",
   "execution_count": 8,
   "metadata": {},
   "outputs": [],
   "source": [
    "import smtplib, ssl\n",
    "# Create a secure SSL context\n",
    "context = ssl.create_default_context()\n",
    "\n",
    "with smtplib.SMTP_SSL(host=\"smtp.gmail.com\", port=465, context=context) as server:\n",
    "    server.login(\"mark.qj@gmail.com\", \"mxfjwgvtaurwcyyc\")\n",
    "    server.sendmail(sender, receivers, msg_alt.as_string())\n"
   ]
  },
  {
   "cell_type": "markdown",
   "metadata": {},
   "source": [
    "## Reference\n",
    "\n",
    "* https://blog.mailtrap.io/mailtrap-getting-started-guide/\n",
    "* https://docs.python.org/2/library/smtplib.html\n",
    "* https://stackoverflow.com/questions/882712/sending-html-email-using-python\n",
    "* https://docs.python.org/3.4/library/email-examples.html"
   ]
  }
 ],
 "metadata": {
  "kernelspec": {
   "display_name": "Python 3",
   "language": "python",
   "name": "python3"
  },
  "language_info": {
   "codemirror_mode": {
    "name": "ipython",
    "version": 3
   },
   "file_extension": ".py",
   "mimetype": "text/x-python",
   "name": "python",
   "nbconvert_exporter": "python",
   "pygments_lexer": "ipython3",
   "version": "3.8.8"
  },
  "toc": {
   "base_numbering": 1,
   "nav_menu": {},
   "number_sections": true,
   "sideBar": true,
   "skip_h1_title": false,
   "title_cell": "Table of Contents",
   "title_sidebar": "Contents",
   "toc_cell": false,
   "toc_position": {},
   "toc_section_display": true,
   "toc_window_display": false
  }
 },
 "nbformat": 4,
 "nbformat_minor": 2
}
